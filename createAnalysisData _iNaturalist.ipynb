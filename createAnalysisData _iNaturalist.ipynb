{
 "cells": [
  {
   "cell_type": "markdown",
   "id": "696462d7-952d-47e9-81da-d38308b93098",
   "metadata": {},
   "source": [
    "+ import useful libraries"
   ]
  },
  {
   "cell_type": "code",
   "execution_count": 3,
   "id": "51b063d2-7142-4314-87de-b0a417998b9c",
   "metadata": {},
   "outputs": [],
   "source": [
    "import requests\n",
    "import numpy as np\n",
    "import pandas as pd\n",
    "from bs4 import BeautifulSoup\n",
    "import sys"
   ]
  },
  {
   "cell_type": "code",
   "execution_count": 5,
   "id": "5936c790-1683-4f3a-9d0f-2db39698bf86",
   "metadata": {},
   "outputs": [
    {
     "ename": "ModuleNotFoundError",
     "evalue": "No module named 'geopandas'",
     "output_type": "error",
     "traceback": [
      "\u001b[1;31m---------------------------------------------------------------------------\u001b[0m",
      "\u001b[1;31mModuleNotFoundError\u001b[0m                       Traceback (most recent call last)",
      "\u001b[1;32md:\\Repo\\PollinatorHabitat\\createAnalysisData _iNaturalist.ipynb Cell 3'\u001b[0m in \u001b[0;36m<cell line: 1>\u001b[1;34m()\u001b[0m\n\u001b[1;32m----> <a href='vscode-notebook-cell:/d%3A/Repo/PollinatorHabitat/createAnalysisData%20_iNaturalist.ipynb#ch0000002?line=0'>1</a>\u001b[0m \u001b[39mimport\u001b[39;00m \u001b[39mgeopandas\u001b[39;00m \u001b[39mas\u001b[39;00m \u001b[39mgpd\u001b[39;00m\n\u001b[0;32m      <a href='vscode-notebook-cell:/d%3A/Repo/PollinatorHabitat/createAnalysisData%20_iNaturalist.ipynb#ch0000002?line=1'>2</a>\u001b[0m \u001b[39mimport\u001b[39;00m \u001b[39mmatplotlib\u001b[39;00m\u001b[39m.\u001b[39;00m\u001b[39mpyplot\u001b[39;00m \u001b[39mas\u001b[39;00m \u001b[39mplt\u001b[39;00m\n\u001b[0;32m      <a href='vscode-notebook-cell:/d%3A/Repo/PollinatorHabitat/createAnalysisData%20_iNaturalist.ipynb#ch0000002?line=2'>3</a>\u001b[0m \u001b[39mfrom\u001b[39;00m \u001b[39mshapely\u001b[39;00m\u001b[39m.\u001b[39;00m\u001b[39mgeometry\u001b[39;00m \u001b[39mimport\u001b[39;00m Point\n",
      "\u001b[1;31mModuleNotFoundError\u001b[0m: No module named 'geopandas'"
     ]
    }
   ],
   "source": [
    "import geopandas as gpd\n",
    "import matplotlib.pyplot as plt\n",
    "from shapely.geometry import Point"
   ]
  },
  {
   "cell_type": "code",
   "execution_count": 3,
   "id": "2083569f-9f75-4dd0-abd2-cd2870d31901",
   "metadata": {},
   "outputs": [],
   "source": [
    "import scipy as sp\n",
    "import plotly as ply"
   ]
  },
  {
   "cell_type": "code",
   "execution_count": 4,
   "id": "02d7bed6-6ce3-42b6-aa4b-6237ac7215db",
   "metadata": {},
   "outputs": [],
   "source": [
    "import chart_studio.plotly as py"
   ]
  },
  {
   "cell_type": "markdown",
   "id": "10304a4b-a119-4332-a028-9c9b51c64fec",
   "metadata": {},
   "source": [
    "+ Get the list of plant symbols.  The csv file below was downloaded from https://plants.usda.gov/home/downloads, From the state plant list for Illinois."
   ]
  },
  {
   "cell_type": "code",
   "execution_count": 5,
   "id": "dc412456-21ed-412e-b789-88019210f015",
   "metadata": {},
   "outputs": [],
   "source": [
    "plup = pd.read_csv(\"D:/qgis/usda_plant_symbols.csv\")"
   ]
  },
  {
   "cell_type": "markdown",
   "id": "1fb23815-a845-4ea4-8bc5-77bfc7a80f2b",
   "metadata": {},
   "source": [
    "We want to lookup the usda sysmbol for a plant (which is the key to data on the nrcs website  )  but the scientific names here are appended with an author, so we get the first to words of the \"Scientific Name with Author\" field"
   ]
  },
  {
   "cell_type": "code",
   "execution_count": 6,
   "id": "cedffc81-dec9-4b6c-85cc-0ec35fbb663e",
   "metadata": {},
   "outputs": [],
   "source": [
    "plup[\"SciName\"] =plup.apply(lambda r: \" \".join(r['Scientific Name with Author'].split()[:2]), axis=1)  \n",
    "plu = plup.drop_duplicates(subset=[\"SciName\"]).set_index('SciName')"
   ]
  },
  {
   "cell_type": "markdown",
   "id": "375923a5-ed23-416c-b30c-f43c11878921",
   "metadata": {},
   "source": [
    "The spreadsheet below was created from the query\n",
    ">`Query quality_grade=research&identifications=any&iconic_taxa[]=Plantae&place_id=159205&d1=2017-05-01&d2=2022-05-17\n",
    "Columns id, observed_on_string, observed_on, quality_grade, description, num_identification_agreements, num_identification_disagreements, oauth_application_id, place_guess, latitude, longitude, positioning_device, species_guess, scientific_name, common_name, iconic_taxon_name, taxon_id`\n",
    "\n",
    "Run on [https://www.inaturalist.org/observations/export]\n",
    "The place id seems to refer to all DupageForest Preserve property, so this immediately reduces the list of observations to places we are interested in\n",
    "\n",
    "With a little work this data could be requested throught the api\n",
    "\n",
    "The spreadsheet is de-duped on species.  we only want to lookup the species once on wildflower.org to find the \"interesting\" plants for pollinator habitat"
   ]
  },
  {
   "cell_type": "markdown",
   "id": "d26f3a64-07b9-41d5-9dd9-d4087cb46e98",
   "metadata": {},
   "source": [
    "Copy the \"scientific_name\" column into \"SciName\" so it will match  plant lookup data, then get the usda symbol for the plant"
   ]
  },
  {
   "cell_type": "code",
   "execution_count": 7,
   "id": "404be877-111f-489a-ba7e-2fa621b5e177",
   "metadata": {},
   "outputs": [],
   "source": [
    "dfp_flora = pd.read_excel(\"inat_species_5yrs.xlsx\")\n",
    "dfp_flora[\"SciName\"] = dfp_flora[\"scientific_name\"]"
   ]
  },
  {
   "cell_type": "code",
   "execution_count": 8,
   "id": "b92b50c7-83f1-49dc-9dfa-657f1603f695",
   "metadata": {},
   "outputs": [],
   "source": [
    "lookup_list = dfp_flora.join(plu, on=\"SciName\").set_index(\"SciName\")"
   ]
  },
  {
   "cell_type": "markdown",
   "id": "9617fbcf-8456-4122-9a42-93f22260316c",
   "metadata": {},
   "source": [
    "wildflower.org  wont return the plant page unles the \"User-Agent\" header is set.  not sure if it cares what it is set to.  just copied the header from a browser"
   ]
  },
  {
   "cell_type": "code",
   "execution_count": 9,
   "id": "f8b25864-6c78-4c2c-bf42-852df91275a8",
   "metadata": {},
   "outputs": [],
   "source": [
    "headers = {'User-Agent': 'Mozilla/5.0 (Macintosh; Intel Mac OS X 10_10_1) AppleWebKit/537.36 (KHTML, like Gecko) Chrome/39.0.2171.95 Safari/537.36'}"
   ]
  },
  {
   "cell_type": "markdown",
   "id": "2f96021b-c26a-432f-b261-6f625a4ec2d7",
   "metadata": {},
   "source": [
    "Get the page for the plant whose symbol is \"sn\", and read it into beautiful soup for parsing"
   ]
  },
  {
   "cell_type": "code",
   "execution_count": 10,
   "id": "027cc33f-83a2-4a93-b5d7-8b61f5aee56a",
   "metadata": {},
   "outputs": [],
   "source": [
    "def get_lb_page_for_sci_name(sn):\n",
    "    symbol = lookup_list.loc[[sn]][\"Symbol\"].values[0]\n",
    "    url_template = f\"https://www.wildflower.org/plants/result.php?id_plant={symbol}\"\n",
    "    #print(url_template)\n",
    "    res = requests.get(url_template, headers=headers)\n",
    "    if res.status_code != 200:\n",
    "        sys.exit(\"page request failed\")\n",
    "    soup = BeautifulSoup(res.text, 'lxml')\n",
    "    return (soup, sn, symbol)\n",
    " "
   ]
  },
  {
   "cell_type": "markdown",
   "id": "26bd06c6-760e-4c83-a799-4088d9dcb8f2",
   "metadata": {},
   "source": [
    "Parse the desired data out of the soup object.  We look for \n",
    "- Bloom time\n",
    "- Special Value to Native Bees \n",
    "- Special Value to Bumble Bees\n",
    "- Nectar Source\n",
    "- Larval Host:\n",
    "\n",
    "And create a record for the plant"
   ]
  },
  {
   "cell_type": "code",
   "execution_count": 27,
   "id": "43b06452-6457-4cff-a910-8ecef55271fc",
   "metadata": {},
   "outputs": [],
   "source": [
    "def get_lb_data_from_soup(soup, sn, symbol):\n",
    "    #print('Getting Lady Bird data from soup')\n",
    "    rec = {\"SciName\": sn, \n",
    "           \"Symbol\": symbol, \n",
    "           \"Bloom Time:\": \" \",\n",
    "           \"Jan\": 0,\n",
    "           \"Feb\": 0,\n",
    "           \"Mar\": 0,\n",
    "           \"Apr\": 0,\n",
    "           \"May\": 0,\n",
    "           \"Jun\": 0,\n",
    "           \"Jul\": 0,\n",
    "           \"Aug\": 0,\n",
    "           \"Sep\": 0,\n",
    "           \"Oct\": 0,\n",
    "           \"Nov\": 0,\n",
    "           \"Dec\": 0,\n",
    "           \"Special Value to Native Bees\": 0 ,\n",
    "           \"Special Value to Bumble Bees\": 0, \n",
    "           \"Nectar Source:\": 0, \n",
    "           \"Larval Host:\": \"No\",\n",
    "           \"Larval Host(Monarch)\": 0,\n",
    "           \"Larval Host(Other)\": 0}\n",
    "    h4s = soup.find_all(\"h4\")\n",
    "    #print(\"h4's found: \",h4s)\n",
    "    for n in h4s:\n",
    "        #print('\\n\\n', '####', n, n.string)\n",
    "        if n.string == \"Bloom Information\":\n",
    "            #print(\"Found Bloom Information\")\n",
    "            sibs = n.find_next_siblings()\n",
    "            for s in sibs:\n",
    "                #print(s)\n",
    "                if s.string == \"Bloom Time:\":\n",
    "                    #print(n.parent)\n",
    "                    #print(s)\n",
    "                    #print(s.next_sibling)\n",
    "                    mos = s.next_sibling.split(\",\")\n",
    "                    for m in mos:\n",
    "                        rec[m.strip()] = 1                    \n",
    "                    rec[s.string] = s.next_sibling\n",
    "        if n.string == \"Benefit\":\n",
    "            sibs = n.find_next_siblings()\n",
    "            for s in sibs:\n",
    "                #print(s)\n",
    "                if s.string == \"Nectar Source:\":\n",
    "                    print(\"found benefit for \", sn, symbol)\n",
    "                    #print(n.parent)\n",
    "                    #print(s)\n",
    "                    #print(s.next_sibling)\n",
    "                    rec[s.string] = 1\n",
    "                if s.string == \"Larval Host:\":\n",
    "                    print(\"found benefit for \", sn, symbol)\n",
    "                    #print(n.parent)\n",
    "                    #print(s)\n",
    "                    #print(s.next_sibling)\n",
    "                    rec[s.string] = s.next_sibling\n",
    "                    if \"onarch\" in s.next_sibling:\n",
    "                        rec[\"Larval Host(Monarch)\"] = 1\n",
    "                    else: \n",
    "                        rec[\"Larval Host(Other)\"] = 1\n",
    "        if n.string == \"Value to Beneficial Insects\":\n",
    "            #print(n.parent.prettify())\n",
    "            for s in n.find_next_siblings():\n",
    "                #print(s)\n",
    "                if s.string: \n",
    "                    if (s.string.strip().startswith(\"Special\") and (s.string.find(\"Honey\") == -1)):\n",
    "                        #print('adding string', s)\n",
    "                        rec[s.string.replace(\"\\xa0\", \" \")] = 1\n",
    "                #print(s.next_sibling)\n",
    "                if (str(s.next_sibling).strip().startswith(\"Special\") and (str(s.next_sibling).find(\"Honey\") == -1)):\n",
    "                    #print(\"adding next sibling\", s.next_sibling)\n",
    "                    rec[str(s.next_sibling.strip().replace(\"\\xa0\", \" \"))] = 1                \n",
    "    return rec"
   ]
  },
  {
   "cell_type": "markdown",
   "id": "ad19f138-4b39-4a33-b541-9e63047972cd",
   "metadata": {},
   "source": [
    "Run the two above functions once for each species reported, and collect the records into a dataframe"
   ]
  },
  {
   "cell_type": "code",
   "execution_count": null,
   "id": "531eee7e-e8a3-4162-8f48-88a33d97cc39",
   "metadata": {},
   "outputs": [],
   "source": [
    "rec_list = []\n",
    "for plant in dfp_flora.SciName.values:\n",
    "    #print(plant)\n",
    "    page, sn, symbol = get_lb_page_for_sci_name(plant)\n",
    "    rec_list.append(get_lb_data_from_soup(page, sn, symbol))\n"
   ]
  },
  {
   "cell_type": "code",
   "execution_count": 31,
   "id": "1aa912db-0db7-4c06-83b0-02ededb322ff",
   "metadata": {},
   "outputs": [],
   "source": [
    "df = pd.DataFrame(rec_list)"
   ]
  },
  {
   "cell_type": "markdown",
   "id": "e0a3cdbf-1fac-41ba-91e1-5a7bc2170326",
   "metadata": {},
   "source": [
    "Save the species information to an Excel sheet"
   ]
  },
  {
   "cell_type": "code",
   "execution_count": 32,
   "id": "deed48c2-e6a7-4dc8-b810-6283f4b52bf9",
   "metadata": {},
   "outputs": [],
   "source": [
    "df.to_excel(\"G:/My Drive/JupyterNotebooks/LadyBirdData_iNaturalist_expanded.xlsx\")"
   ]
  },
  {
   "cell_type": "markdown",
   "id": "4b38a8b8-8b38-4728-ac18-c8717dac794f",
   "metadata": {},
   "source": [
    "Now get all the observations (and create the \"SciName\" column)"
   ]
  },
  {
   "cell_type": "code",
   "execution_count": 34,
   "id": "d7ab28c3-b2ad-43c1-a855-3946a685e950",
   "metadata": {},
   "outputs": [],
   "source": [
    "obs = pd.read_csv(\"G:/My Drive/JupyterNotebooks/inat_obs_5yrs.csv\")\n",
    "obs[\"SciName\"] = obs.scientific_name"
   ]
  },
  {
   "cell_type": "markdown",
   "id": "33edac0f-ff76-4ad0-bc00-2a746aba8718",
   "metadata": {
    "tags": []
   },
   "source": [
    "add plant information to the observation record, and get the records of observations of \"interesting plants\""
   ]
  },
  {
   "cell_type": "code",
   "execution_count": 36,
   "id": "6a65c36d-b025-4e74-bc7e-e40bb3612785",
   "metadata": {
    "tags": []
   },
   "outputs": [],
   "source": [
    "oo = obs.join(df.reset_index().set_index(\"SciName\"), on=\"SciName\")\n",
    "#oo[\"Interesting?\"] = oo.apply(lambda r: (r[\"Special Value to Native Bees\"] == \"Yes\") | (r[\"Special Value to Bumble Bees\"] == \"Yes\") | (r[\"Nectar Source:\"] == \"yes\") | (r[\"Larval Host:\"] != \"No\"), axis = 1) \n",
    "#int_df = oo[oo[\"Interesting?\"]]"
   ]
  },
  {
   "cell_type": "code",
   "execution_count": 53,
   "id": "48f30f22-8017-4bba-bbcc-a075a72662d8",
   "metadata": {},
   "outputs": [],
   "source": [
    "oo[\"habitat_index\"] = (oo[\"Special Value to Native Bees\"] \n",
    "     + oo[\"Special Value to Bumble Bees\"] \n",
    "     + oo[\"Nectar Source:\"] \n",
    "     + oo[\"Larval Host(Monarch)\"] \n",
    "     + oo[\"Larval Host(Other)\"])\n",
    "oo[\"# months with blooms\"] = (oo[\"Jan\"] + oo[\"Feb\"] + oo[\"Mar\"] + oo[\"Apr\"] \n",
    "     + oo[\"May\"] + oo[\"Jun\"] + oo[\"Jul\"] + oo[\"Aug\"] + oo[\"Sep\"] \n",
    "     + oo[\"Oct\"] + oo[\"Nov\"] + oo[\"Dec\"] )\n",
    "int_df = oo[oo.habitat_index > 0]"
   ]
  },
  {
   "cell_type": "markdown",
   "id": "e53614d7-ecc5-4dd8-815a-218d427e3be4",
   "metadata": {},
   "source": [
    "Now get the gis information on where the EcoUnits are into a geopandas dataframe"
   ]
  },
  {
   "cell_type": "code",
   "execution_count": 54,
   "id": "b68e4515-933d-4399-90e0-3c1bb2031f5c",
   "metadata": {},
   "outputs": [],
   "source": [
    "# Open the shapefile\n",
    "ecoUnits = gpd.GeoDataFrame.from_file('D:/QGIS/Eco Unit Shapefile/')"
   ]
  },
  {
   "cell_type": "markdown",
   "id": "d9502684-9496-457a-b9a1-8618f5519187",
   "metadata": {},
   "source": [
    "make a geodataframe from the observations list (the inat has lat/long of observation)\n",
    "Make  the coordinate reference systems match"
   ]
  },
  {
   "cell_type": "code",
   "execution_count": 55,
   "id": "239f74c2-8543-4380-ba43-a9bf1783f817",
   "metadata": {},
   "outputs": [],
   "source": [
    "gdf_inats = gpd.GeoDataFrame(int_df,\n",
    "    geometry=gpd.points_from_xy(int_df.longitude, int_df.latitude))\n",
    "gdf_inats = gdf_inats.set_crs(crs=\"EPSG:4326\")"
   ]
  },
  {
   "cell_type": "code",
   "execution_count": 56,
   "id": "51c374de-36b4-430d-9661-ff855648b944",
   "metadata": {},
   "outputs": [],
   "source": [
    "eco_lats = ecoUnits.to_crs(\"EPSG:4326\")"
   ]
  },
  {
   "cell_type": "markdown",
   "id": "a5a4c213-ef05-42e5-a7f4-ab390ec13cef",
   "metadata": {},
   "source": [
    "Do a spatial join to match each observation to the EUnit it was made in.  Drop multilple observations of the same plant in the same EUnit"
   ]
  },
  {
   "cell_type": "code",
   "execution_count": 57,
   "id": "1d38b349-2ba1-4f23-9c92-3b22b4630bb8",
   "metadata": {
    "tags": []
   },
   "outputs": [],
   "source": [
    "mdf = eco_lats.sjoin(gdf_inats, how=\"left\", predicate=\"contains\").sort_values(\"EUnit\")\n",
    "\n",
    "mdf = mdf[mdf.habitat_index > 0]  # Should be unnecessary, we already filterd to \"Interesting?\"\n",
    "mdf = mdf.drop_duplicates(subset=[\"EUnit\", \"Symbol\"])"
   ]
  },
  {
   "cell_type": "markdown",
   "id": "f1b93adb-dab5-42b2-9450-5b08fb9d1e77",
   "metadata": {},
   "source": [
    "Save the data to excel"
   ]
  },
  {
   "cell_type": "code",
   "execution_count": 58,
   "id": "3b5c73ba-09d2-4d46-bc52-e4dc8a891659",
   "metadata": {},
   "outputs": [],
   "source": [
    "mdf.to_excel(\"inat_interesting_units.xlsx\")"
   ]
  },
  {
   "cell_type": "code",
   "execution_count": 38,
   "id": "8d01192f-9764-4969-b4a9-367a467fc080",
   "metadata": {},
   "outputs": [
    {
     "data": {
      "text/plain": [
       "Index(['PresName', 'EcosUnit', 'EcosName', 'GenType', 'CommType', 'CommName',\n",
       "       'SciName', 'Year', 'UnitArea', 'index', 'Symbol', 'Bloom Time:',\n",
       "       'Special Value to Native Bees', 'Special Value to Bumble Bees',\n",
       "       'Nectar Source:', 'Larval Host:', 'Special Value to Honey Bees',\n",
       "       'Interesting?'],\n",
       "      dtype='object')"
      ]
     },
     "execution_count": 38,
     "metadata": {},
     "output_type": "execute_result"
    }
   ],
   "source": [
    "oo.columns"
   ]
  },
  {
   "cell_type": "code",
   "execution_count": 42,
   "id": "f2306d8b-dc5b-4090-a1ac-bc28d590de1a",
   "metadata": {},
   "outputs": [],
   "source": [
    "pd.options.display.float_format = '{:,.2f}'.format"
   ]
  },
  {
   "cell_type": "code",
   "execution_count": 169,
   "id": "c163ab22-038e-4306-ad03-7b5675b303da",
   "metadata": {},
   "outputs": [],
   "source": [
    "agg_df = (oo.groupby([\"PresName\", \"EcosUnit\", \"GenType\", \"CommType\", \"UnitArea\", \"CommName\", \"SciName\", \"Bloom Time:\",\n",
    "             \"Special Value to Native Bees\", \"Special Value to Bumble Bees\", \"Nectar Source:\", \"Larval Host:\", \"Year\", \"Interesting?\"])\n",
    "     .count().drop(columns=[\"EcosName\",\"index\", \"Symbol\", \"Special Value to Honey Bees\"]))\n"
   ]
  },
  {
   "cell_type": "code",
   "execution_count": 171,
   "id": "20cf5eb2-d3d4-49d1-bcbf-bed9fd1c0ce9",
   "metadata": {},
   "outputs": [],
   "source": [
    "agg_df.to_excel(\"G:/My Drive/PlantInfo/ConservationAreaAnalysis.xlsx\")"
   ]
  },
  {
   "cell_type": "code",
   "execution_count": 136,
   "id": "7b48dfdd-eab5-4c0f-8326-85f139594a99",
   "metadata": {},
   "outputs": [
    {
     "name": "stderr",
     "output_type": "stream",
     "text": [
      "C:\\Users\\ajc\\AppData\\Local\\conda\\conda\\envs\\anaconda3a\\lib\\site-packages\\ipykernel_launcher.py:1: UserWarning: Boolean Series key will be reindexed to match DataFrame index.\n",
      "  \"\"\"Entry point for launching an IPython kernel.\n"
     ]
    },
    {
     "ename": "IndexingError",
     "evalue": "Unalignable boolean Series provided as indexer (index of the boolean Series and of the indexed object do not match).",
     "output_type": "error",
     "traceback": [
      "\u001b[1;31m---------------------------------------------------------------------------\u001b[0m",
      "\u001b[1;31mIndexingError\u001b[0m                             Traceback (most recent call last)",
      "\u001b[1;32m~\\AppData\\Local\\Temp\\ipykernel_28936\\2968721594.py\u001b[0m in \u001b[0;36m<module>\u001b[1;34m\u001b[0m\n\u001b[1;32m----> 1\u001b[1;33m \u001b[0magg_df\u001b[0m\u001b[1;33m[\u001b[0m\u001b[0magg_df\u001b[0m\u001b[1;33m.\u001b[0m\u001b[0mreset_index\u001b[0m\u001b[1;33m(\u001b[0m\u001b[1;33m)\u001b[0m\u001b[1;33m[\u001b[0m\u001b[1;34m\"Special Value to Native Bees\"\u001b[0m\u001b[1;33m]\u001b[0m \u001b[1;33m!=\u001b[0m \u001b[1;34m\"\"\u001b[0m\u001b[1;33m]\u001b[0m\u001b[1;33m\u001b[0m\u001b[1;33m\u001b[0m\u001b[0m\n\u001b[0m",
      "\u001b[1;32m~\\AppData\\Local\\conda\\conda\\envs\\anaconda3a\\lib\\site-packages\\pandas\\core\\frame.py\u001b[0m in \u001b[0;36m__getitem__\u001b[1;34m(self, key)\u001b[0m\n\u001b[0;32m   3447\u001b[0m         \u001b[1;31m# Do we have a (boolean) 1d indexer?\u001b[0m\u001b[1;33m\u001b[0m\u001b[1;33m\u001b[0m\u001b[1;33m\u001b[0m\u001b[0m\n\u001b[0;32m   3448\u001b[0m         \u001b[1;32mif\u001b[0m \u001b[0mcom\u001b[0m\u001b[1;33m.\u001b[0m\u001b[0mis_bool_indexer\u001b[0m\u001b[1;33m(\u001b[0m\u001b[0mkey\u001b[0m\u001b[1;33m)\u001b[0m\u001b[1;33m:\u001b[0m\u001b[1;33m\u001b[0m\u001b[1;33m\u001b[0m\u001b[0m\n\u001b[1;32m-> 3449\u001b[1;33m             \u001b[1;32mreturn\u001b[0m \u001b[0mself\u001b[0m\u001b[1;33m.\u001b[0m\u001b[0m_getitem_bool_array\u001b[0m\u001b[1;33m(\u001b[0m\u001b[0mkey\u001b[0m\u001b[1;33m)\u001b[0m\u001b[1;33m\u001b[0m\u001b[1;33m\u001b[0m\u001b[0m\n\u001b[0m\u001b[0;32m   3450\u001b[0m \u001b[1;33m\u001b[0m\u001b[0m\n\u001b[0;32m   3451\u001b[0m         \u001b[1;31m# We are left with two options: a single key, and a collection of keys,\u001b[0m\u001b[1;33m\u001b[0m\u001b[1;33m\u001b[0m\u001b[1;33m\u001b[0m\u001b[0m\n",
      "\u001b[1;32m~\\AppData\\Local\\conda\\conda\\envs\\anaconda3a\\lib\\site-packages\\pandas\\core\\frame.py\u001b[0m in \u001b[0;36m_getitem_bool_array\u001b[1;34m(self, key)\u001b[0m\n\u001b[0;32m   3500\u001b[0m         \u001b[1;31m# check_bool_indexer will throw exception if Series key cannot\u001b[0m\u001b[1;33m\u001b[0m\u001b[1;33m\u001b[0m\u001b[1;33m\u001b[0m\u001b[0m\n\u001b[0;32m   3501\u001b[0m         \u001b[1;31m# be reindexed to match DataFrame rows\u001b[0m\u001b[1;33m\u001b[0m\u001b[1;33m\u001b[0m\u001b[1;33m\u001b[0m\u001b[0m\n\u001b[1;32m-> 3502\u001b[1;33m         \u001b[0mkey\u001b[0m \u001b[1;33m=\u001b[0m \u001b[0mcheck_bool_indexer\u001b[0m\u001b[1;33m(\u001b[0m\u001b[0mself\u001b[0m\u001b[1;33m.\u001b[0m\u001b[0mindex\u001b[0m\u001b[1;33m,\u001b[0m \u001b[0mkey\u001b[0m\u001b[1;33m)\u001b[0m\u001b[1;33m\u001b[0m\u001b[1;33m\u001b[0m\u001b[0m\n\u001b[0m\u001b[0;32m   3503\u001b[0m         \u001b[0mindexer\u001b[0m \u001b[1;33m=\u001b[0m \u001b[0mkey\u001b[0m\u001b[1;33m.\u001b[0m\u001b[0mnonzero\u001b[0m\u001b[1;33m(\u001b[0m\u001b[1;33m)\u001b[0m\u001b[1;33m[\u001b[0m\u001b[1;36m0\u001b[0m\u001b[1;33m]\u001b[0m\u001b[1;33m\u001b[0m\u001b[1;33m\u001b[0m\u001b[0m\n\u001b[0;32m   3504\u001b[0m         \u001b[1;32mreturn\u001b[0m \u001b[0mself\u001b[0m\u001b[1;33m.\u001b[0m\u001b[0m_take_with_is_copy\u001b[0m\u001b[1;33m(\u001b[0m\u001b[0mindexer\u001b[0m\u001b[1;33m,\u001b[0m \u001b[0maxis\u001b[0m\u001b[1;33m=\u001b[0m\u001b[1;36m0\u001b[0m\u001b[1;33m)\u001b[0m\u001b[1;33m\u001b[0m\u001b[1;33m\u001b[0m\u001b[0m\n",
      "\u001b[1;32m~\\AppData\\Local\\conda\\conda\\envs\\anaconda3a\\lib\\site-packages\\pandas\\core\\indexing.py\u001b[0m in \u001b[0;36mcheck_bool_indexer\u001b[1;34m(index, key)\u001b[0m\n\u001b[0;32m   2387\u001b[0m         \u001b[1;32mif\u001b[0m \u001b[0mmask\u001b[0m\u001b[1;33m.\u001b[0m\u001b[0many\u001b[0m\u001b[1;33m(\u001b[0m\u001b[1;33m)\u001b[0m\u001b[1;33m:\u001b[0m\u001b[1;33m\u001b[0m\u001b[1;33m\u001b[0m\u001b[0m\n\u001b[0;32m   2388\u001b[0m             raise IndexingError(\n\u001b[1;32m-> 2389\u001b[1;33m                 \u001b[1;34m\"Unalignable boolean Series provided as \"\u001b[0m\u001b[1;33m\u001b[0m\u001b[1;33m\u001b[0m\u001b[0m\n\u001b[0m\u001b[0;32m   2390\u001b[0m                 \u001b[1;34m\"indexer (index of the boolean Series and of \"\u001b[0m\u001b[1;33m\u001b[0m\u001b[1;33m\u001b[0m\u001b[0m\n\u001b[0;32m   2391\u001b[0m                 \u001b[1;34m\"the indexed object do not match).\"\u001b[0m\u001b[1;33m\u001b[0m\u001b[1;33m\u001b[0m\u001b[0m\n",
      "\u001b[1;31mIndexingError\u001b[0m: Unalignable boolean Series provided as indexer (index of the boolean Series and of the indexed object do not match)."
     ]
    }
   ],
   "source": [
    "agg_df[agg_df.reset_index()[\"Special Value to Native Bees\"] != \"\"]"
   ]
  },
  {
   "cell_type": "code",
   "execution_count": 201,
   "id": "e9648b52-db11-42e7-bfb2-3eaede095b6e",
   "metadata": {},
   "outputs": [],
   "source": [
    "ldf = oo.reset_index()[oo[\"Interesting?\"]].groupby([\"EcosUnit\", \"CommName\", \"SciName\"] ).first()\n",
    "#.reset_index()[\"EcosUnit\", \"CommName\", \"SciName\"]"
   ]
  },
  {
   "cell_type": "code",
   "execution_count": 203,
   "id": "6e66ede3-451c-462e-aefc-b1c7bb5bbba6",
   "metadata": {},
   "outputs": [],
   "source": [
    "ldf = ldf.drop(columns=ldf.columns).reset_index()"
   ]
  },
  {
   "cell_type": "code",
   "execution_count": 190,
   "id": "3ba6cd42-5f3e-42da-8f7e-9565f363dcec",
   "metadata": {},
   "outputs": [
    {
     "data": {
      "text/html": [
       "<div>\n",
       "<style scoped>\n",
       "    .dataframe tbody tr th:only-of-type {\n",
       "        vertical-align: middle;\n",
       "    }\n",
       "\n",
       "    .dataframe tbody tr th {\n",
       "        vertical-align: top;\n",
       "    }\n",
       "\n",
       "    .dataframe thead th {\n",
       "        text-align: right;\n",
       "    }\n",
       "</style>\n",
       "<table border=\"1\" class=\"dataframe\">\n",
       "  <thead>\n",
       "    <tr style=\"text-align: right;\">\n",
       "      <th></th>\n",
       "      <th>CommName</th>\n",
       "      <th>SciName</th>\n",
       "    </tr>\n",
       "    <tr>\n",
       "      <th>EcosUnit</th>\n",
       "      <th></th>\n",
       "      <th></th>\n",
       "    </tr>\n",
       "  </thead>\n",
       "  <tbody>\n",
       "    <tr>\n",
       "      <th>CUMDU</th>\n",
       "      <td>Leafy Lupine</td>\n",
       "      <td>Lupinus polyphyllus</td>\n",
       "    </tr>\n",
       "    <tr>\n",
       "      <th>EBE02</th>\n",
       "      <td>Multiflora Rose</td>\n",
       "      <td>Rosa multiflora</td>\n",
       "    </tr>\n",
       "    <tr>\n",
       "      <th>EBE05</th>\n",
       "      <td>Chinese Buckthorn, Multiflora Rose</td>\n",
       "      <td>Rhamnus utilis, Rosa multiflora</td>\n",
       "    </tr>\n",
       "    <tr>\n",
       "      <th>EBE06</th>\n",
       "      <td>Boxelder, Garlic Mustard, Giant Ragweed, Water...</td>\n",
       "      <td>Acer negundo, Alliaria petiolata, Ambrosia tri...</td>\n",
       "    </tr>\n",
       "    <tr>\n",
       "      <th>EBE07</th>\n",
       "      <td>Common Dandelion, Creeping Charlie, Hairy Crab...</td>\n",
       "      <td>Taraxacum officinale, Glechoma hederacea, Digi...</td>\n",
       "    </tr>\n",
       "    <tr>\n",
       "      <th>...</th>\n",
       "      <td>...</td>\n",
       "      <td>...</td>\n",
       "    </tr>\n",
       "    <tr>\n",
       "      <th>ewa06</th>\n",
       "      <td>Skunk Cabbage</td>\n",
       "      <td>Symplocarpus foetidus</td>\n",
       "    </tr>\n",
       "    <tr>\n",
       "      <th>ewc08</th>\n",
       "      <td>Common Mountain Mint, Cowbane, Illinois Bundle...</td>\n",
       "      <td>Pycnanthemum virginianum, Oxypolis rigidior, D...</td>\n",
       "    </tr>\n",
       "    <tr>\n",
       "      <th>ewd07</th>\n",
       "      <td>Common Forget-Me-Not, Fen Panicled Sedge, Fen ...</td>\n",
       "      <td>Myosotis scorpioides, Carex prairea, Carex ste...</td>\n",
       "    </tr>\n",
       "    <tr>\n",
       "      <th>ewd26</th>\n",
       "      <td>Field Bindweed, Hungarian Brome, Orchard Grass...</td>\n",
       "      <td>Convolvulus arvensis, Bromus inermis, Dactylis...</td>\n",
       "    </tr>\n",
       "    <tr>\n",
       "      <th>ewf90</th>\n",
       "      <td>Reed Canary Grass</td>\n",
       "      <td>Phalaris arundinacea</td>\n",
       "    </tr>\n",
       "  </tbody>\n",
       "</table>\n",
       "<p>517 rows × 2 columns</p>\n",
       "</div>"
      ],
      "text/plain": [
       "                                                   CommName  \\\n",
       "EcosUnit                                                      \n",
       "CUMDU                                          Leafy Lupine   \n",
       "EBE02                                       Multiflora Rose   \n",
       "EBE05                    Chinese Buckthorn, Multiflora Rose   \n",
       "EBE06     Boxelder, Garlic Mustard, Giant Ragweed, Water...   \n",
       "EBE07     Common Dandelion, Creeping Charlie, Hairy Crab...   \n",
       "...                                                     ...   \n",
       "ewa06                                         Skunk Cabbage   \n",
       "ewc08     Common Mountain Mint, Cowbane, Illinois Bundle...   \n",
       "ewd07     Common Forget-Me-Not, Fen Panicled Sedge, Fen ...   \n",
       "ewd26     Field Bindweed, Hungarian Brome, Orchard Grass...   \n",
       "ewf90                                     Reed Canary Grass   \n",
       "\n",
       "                                                    SciName  \n",
       "EcosUnit                                                     \n",
       "CUMDU                                   Lupinus polyphyllus  \n",
       "EBE02                                       Rosa multiflora  \n",
       "EBE05                       Rhamnus utilis, Rosa multiflora  \n",
       "EBE06     Acer negundo, Alliaria petiolata, Ambrosia tri...  \n",
       "EBE07     Taraxacum officinale, Glechoma hederacea, Digi...  \n",
       "...                                                     ...  \n",
       "ewa06                                 Symplocarpus foetidus  \n",
       "ewc08     Pycnanthemum virginianum, Oxypolis rigidior, D...  \n",
       "ewd07     Myosotis scorpioides, Carex prairea, Carex ste...  \n",
       "ewd26     Convolvulus arvensis, Bromus inermis, Dactylis...  \n",
       "ewf90                                  Phalaris arundinacea  \n",
       "\n",
       "[517 rows x 2 columns]"
      ]
     },
     "execution_count": 190,
     "metadata": {},
     "output_type": "execute_result"
    }
   ],
   "source": [
    "ldf.groupby(\"EcosUnit\").agg({\"CommName\": \", \".join, \"SciName\": \", \".join})"
   ]
  },
  {
   "cell_type": "code",
   "execution_count": 211,
   "id": "4337d74b-546d-4a1e-8149-59b78ce27bc9",
   "metadata": {},
   "outputs": [],
   "source": [
    "ldf.groupby(\"EcosUnit\").agg({\"SciName\": \"count\"}).to_excel(\"G:/My Drive/PlantInfo/PlantCount.xlsx\")"
   ]
  },
  {
   "cell_type": "code",
   "execution_count": 212,
   "id": "8bdadf73-c594-4c63-aa04-5c6aa6cd5749",
   "metadata": {},
   "outputs": [],
   "source": [
    "ldf.groupby(\"EcosUnit\").agg({\"SciName\": \"count\"}).to_csv(\"G:/My Drive/PlantInfo/PlantCount.csv\")"
   ]
  },
  {
   "cell_type": "code",
   "execution_count": 90,
   "id": "83a8120c-8a19-4ebd-a084-179913e9dfc5",
   "metadata": {},
   "outputs": [],
   "source": [
    "idf = oo[oo[\"Interesting?\"]]"
   ]
  },
  {
   "cell_type": "code",
   "execution_count": 95,
   "id": "0b014ac8-2e5f-44d9-a074-d0a32e8decdf",
   "metadata": {},
   "outputs": [
    {
     "data": {
      "text/plain": [
       "<AxesSubplot:xlabel='UnitArea', ylabel='SciName'>"
      ]
     },
     "execution_count": 95,
     "metadata": {},
     "output_type": "execute_result"
    },
    {
     "data": {
      "image/png": "[encoded data removed]",
      "text/plain": [
       "<Figure size 1080x720 with 1 Axes>"
      ]
     },
     "metadata": {
      "needs_background": "light"
     },
     "output_type": "display_data"
    }
   ],
   "source": [
    "sdf.sort_values(\"UnitArea\").plot.scatter(x=\"UnitArea\", y=\"SciName\", figsize=(15,10))"
   ]
  },
  {
   "cell_type": "code",
   "execution_count": null,
   "id": "78ede9d8-a2a6-4597-9513-c816f80f2dd8",
   "metadata": {},
   "outputs": [],
   "source": []
  },
  {
   "cell_type": "code",
   "execution_count": null,
   "id": "bb56cd4b-be5f-46f0-a8dd-585273029423",
   "metadata": {
    "jupyter": {
     "source_hidden": true
    },
    "tags": []
   },
   "outputs": [],
   "source": []
  }
 ],
 "metadata": {
  "interpreter": {
   "hash": "996f2b6e98019c29df53ccff772a8e3fe7cdecb0ba4b3f6ddb9be804d297dd3d"
  },
  "kernelspec": {
   "display_name": "Python 3.9.5 64-bit",
   "language": "python",
   "name": "python3"
  },
  "language_info": {
   "codemirror_mode": {
    "name": "ipython",
    "version": 3
   },
   "file_extension": ".py",
   "mimetype": "text/x-python",
   "name": "python",
   "nbconvert_exporter": "python",
   "pygments_lexer": "ipython3",
   "version": "3.9.5"
  }
 },
 "nbformat": 4,
 "nbformat_minor": 5
}
