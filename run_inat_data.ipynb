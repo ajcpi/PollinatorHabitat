{
 "cells": [
  {
   "cell_type": "code",
   "execution_count": 2,
   "id": "091b2ed7-da69-417c-9893-657e1366f09a",
   "metadata": {},
   "outputs": [],
   "source": [
    "import pandas as pd\n",
    "import numpy as np\n",
    "\n",
    "import requests"
   ]
  },
  {
   "cell_type": "code",
   "execution_count": 86,
   "id": "47a4bd28-8530-4129-b498-176cf444f2ca",
   "metadata": {},
   "outputs": [],
   "source": [
    "import geopandas as gpd\n",
    "import matplotlib.pyplot as plt\n",
    "from shapely.geometry import Point"
   ]
  },
  {
   "cell_type": "markdown",
   "id": "9a674356-85b2-47c9-833c-bf3b59a3b4ec",
   "metadata": {},
   "source": [
    "These are the parameters for the query.  The \"place_id\" corresponds to DuPage Forest Preserves as defined in iNaturalist"
   ]
  },
  {
   "cell_type": "code",
   "execution_count": null,
   "id": "4a64e1ca-8374-463f-81aa-7418e6c3d54f",
   "metadata": {},
   "outputs": [],
   "source": [
    "DFP_PlaceID = 159205\n",
    "iconic_taxa-\"Plantae\"\n",
    "d1=\"2017-05-01\""
   ]
  },
  {
   "cell_type": "markdown",
   "id": "117529a4-a42a-4105-9ac8-5b36ce059c07",
   "metadata": {},
   "source": [
    "Query quality_grade=research&identifications=any&iconic_taxa[]=Plantae&place_id=159205&d1=2017-05-01&d2=2022-05-17 Columns id, observed_on_string, observed_on, quality_grade, description, num_identification_agreements, num_identification_disagreements, oauth_application_id, place_guess, latitude, longitude, positioning_device, species_guess, scientific_name, common_name, iconic_taxon_name, taxon_id"
   ]
  },
  {
   "cell_type": "code",
   "execution_count": 32,
   "id": "fedea942-6c3b-4a43-bd0f-0ef04f5ef211",
   "metadata": {},
   "outputs": [],
   "source": [
    "query=f\"https://api.inaturalist.org/v1/observations?place_id=159205&d1=2017-05-01&iconic_taxa=Plantae&quality_grade=research&order=desc&order_by=created_at&per_page=200&page=\""
   ]
  },
  {
   "cell_type": "markdown",
   "id": "d0dfe344-6355-4f9d-b274-4d45da114d43",
   "metadata": {},
   "source": [
    "Initialize some control values"
   ]
  },
  {
   "cell_type": "code",
   "execution_count": 75,
   "id": "e521421b-ea00-49a4-9beb-1fad8a9e8ccb",
   "metadata": {},
   "outputs": [],
   "source": [
    "page=1\n",
    "results = [1,2]"
   ]
  },
  {
   "cell_type": "code",
   "execution_count": 76,
   "id": "7f7bdce6-810c-47fc-a339-8b349974614d",
   "metadata": {},
   "outputs": [],
   "source": [
    "reclist = []\n",
    "while len(results) > 0:\n",
    "    res = requests.get(query+f\"{page}\")\n",
    "    if res.status_code == 200:\n",
    "        js = res.json()\n",
    "        results = js[\"results\"]\n",
    "        for obs in results:\n",
    "            this = {}\n",
    "            if obs['taxon']['rank'] == \"species\":\n",
    "                this['SciName'] = obs['taxon']['name']\n",
    "                this['common_name'] = obs['taxon']['preferred_common_name']\n",
    "            this['longitude'] = obs['geojson']['coordinates'][0]\n",
    "            this['latitude'] =  obs['geojson']['coordinates'][1]\n",
    "            this['observed_on'] = obs['observed_on']\n",
    "            this['who'] = obs['user']['login']\n",
    "            reclist.append(this)\n",
    "    page += 1"
   ]
  },
  {
   "cell_type": "code",
   "execution_count": 77,
   "id": "3d96785e-11d7-43dc-887d-5fa895dd9868",
   "metadata": {},
   "outputs": [],
   "source": [
    "df = pd.DataFrame(reclist)\n",
    "df.to_excel('inat_raw_observations.xlsx')"
   ]
  },
  {
   "cell_type": "markdown",
   "id": "59b6af3c-2aa6-4a0c-b96a-fdb0fa33181a",
   "metadata": {},
   "source": [
    "Can use saved observations instead of re-querying iNaturalist"
   ]
  },
  {
   "cell_type": "code",
   "execution_count": null,
   "id": "ee1876bb-7724-46eb-9dae-a37c872e27ea",
   "metadata": {},
   "outputs": [],
   "source": [
    "df = pd.read_excel('inat_raw_observations.xlsx')"
   ]
  },
  {
   "cell_type": "code",
   "execution_count": 27,
   "id": "c111eb5f-3903-4f14-ac7d-bf7d8ed47189",
   "metadata": {},
   "outputs": [],
   "source": [
    "def get_lb_data_from_soup(soup, sn, symbol):\n",
    "    #print('Getting Lady Bird data from soup')\n",
    "    rec = {\"SciName\": sn, \n",
    "           \"Symbol\": symbol, \n",
    "           \"Bloom Time:\": \" \",\n",
    "           \"Jan\": 0,\n",
    "           \"Feb\": 0,\n",
    "           \"Mar\": 0,\n",
    "           \"Apr\": 0,\n",
    "           \"May\": 0,\n",
    "           \"Jun\": 0,\n",
    "           \"Jul\": 0,\n",
    "           \"Aug\": 0,\n",
    "           \"Sep\": 0,\n",
    "           \"Oct\": 0,\n",
    "           \"Nov\": 0,\n",
    "           \"Dec\": 0,\n",
    "           \"Special Value to Native Bees\": 0 ,\n",
    "           \"Special Value to Bumble Bees\": 0, \n",
    "           \"Nectar Source:\": 0, \n",
    "           \"Larval Host:\": \"No\",\n",
    "           \"Larval Host(Monarch)\": 0,\n",
    "           \"Larval Host(Other)\": 0}\n",
    "    h4s = soup.find_all(\"h4\")\n",
    "    #print(\"h4's found: \",h4s)\n",
    "    for n in h4s:\n",
    "        #print('\\n\\n', '####', n, n.string)\n",
    "        if n.string == \"Bloom Information\":\n",
    "            #print(\"Found Bloom Information\")\n",
    "            sibs = n.find_next_siblings()\n",
    "            for s in sibs:\n",
    "                #print(s)\n",
    "                if s.string == \"Bloom Time:\":\n",
    "                    #print(n.parent)\n",
    "                    #print(s)\n",
    "                    #print(s.next_sibling)\n",
    "                    mos = s.next_sibling.split(\",\")\n",
    "                    for m in mos:\n",
    "                        rec[m.strip()] = 1                    \n",
    "                    rec[s.string] = s.next_sibling\n",
    "        if n.string == \"Benefit\":\n",
    "            sibs = n.find_next_siblings()\n",
    "            for s in sibs:\n",
    "                #print(s)\n",
    "                if s.string == \"Nectar Source:\":\n",
    "                    print(\"found benefit for \", sn, symbol)\n",
    "                    #print(n.parent)\n",
    "                    #print(s)\n",
    "                    #print(s.next_sibling)\n",
    "                    rec[s.string] = 1\n",
    "                if s.string == \"Larval Host:\":\n",
    "                    print(\"found benefit for \", sn, symbol)\n",
    "                    #print(n.parent)\n",
    "                    #print(s)\n",
    "                    #print(s.next_sibling)\n",
    "                    rec[s.string] = s.next_sibling\n",
    "                    if \"onarch\" in s.next_sibling:\n",
    "                        rec[\"Larval Host(Monarch)\"] = 1\n",
    "                    else: \n",
    "                        rec[\"Larval Host(Other)\"] = 1\n",
    "        if n.string == \"Value to Beneficial Insects\":\n",
    "            #print(n.parent.prettify())\n",
    "            for s in n.find_next_siblings():\n",
    "                #print(s)\n",
    "                if s.string: \n",
    "                    if (s.string.strip().startswith(\"Special\") and (s.string.find(\"Honey\") == -1)):\n",
    "                        #print('adding string', s)\n",
    "                        rec[s.string.replace(\"\\xa0\", \" \")] = 1\n",
    "                #print(s.next_sibling)\n",
    "                if (str(s.next_sibling).strip().startswith(\"Special\") and (str(s.next_sibling).find(\"Honey\") == -1)):\n",
    "                    #print(\"adding next sibling\", s.next_sibling)\n",
    "                    rec[str(s.next_sibling.strip().replace(\"\\xa0\", \" \"))] = 1                \n",
    "    return rec"
   ]
  },
  {
   "cell_type": "markdown",
   "id": "65e0d3a5-cc25-41a5-a097-e42c3d5c3a47",
   "metadata": {},
   "source": [
    "Run the two above functions once for each species reported, and collect the records into a dataframe"
   ]
  },
  {
   "cell_type": "code",
   "execution_count": null,
   "id": "e799b3b4-017f-42a6-b829-2b7a566bb040",
   "metadata": {},
   "outputs": [],
   "source": [
    "rec_list = []\n",
    "for plant in dfp_flora.SciName.values:\n",
    "    #print(plant)\n",
    "    page, sn, symbol = get_lb_page_for_sci_name(plant)\n",
    "    rec_list.append(get_lb_data_from_soup(page, sn, symbol))\n"
   ]
  },
  {
   "cell_type": "code",
   "execution_count": 31,
   "id": "1287ee03-38fd-4f68-8ff1-79b6153185b5",
   "metadata": {},
   "outputs": [],
   "source": [
    "plant_df = pd.DataFrame(rec_list)"
   ]
  },
  {
   "cell_type": "markdown",
   "id": "b9351d2d-1176-4ff6-a1cf-6a9a3ef2f876",
   "metadata": {},
   "source": [
    "Save the species information to an Excel sheet"
   ]
  },
  {
   "cell_type": "code",
   "execution_count": 32,
   "id": "f884bb72-2ced-457e-8503-672c9ce34a53",
   "metadata": {
    "tags": []
   },
   "outputs": [],
   "source": [
    "plant_df.to_excel(\"LadyBirdData_iNaturalist_expanded.xlsx\")"
   ]
  },
  {
   "cell_type": "markdown",
   "id": "24618cad-0458-45a4-9ed1-82d5ae8832e7",
   "metadata": {},
   "source": [
    "Can use the saved plant info data if it seems current enough"
   ]
  },
  {
   "cell_type": "code",
   "execution_count": 87,
   "id": "b749650f-c48b-4c02-9dd6-a265705e3121",
   "metadata": {},
   "outputs": [],
   "source": [
    "plant_df = pd.read_excel(\"LadyBirdData_iNaturalist_expanded.xlsx\")"
   ]
  },
  {
   "cell_type": "code",
   "execution_count": 94,
   "id": "a9b3dc4b-b1b4-4534-bfe5-53674c9e1b71",
   "metadata": {},
   "outputs": [],
   "source": [
    "oo = df.drop_duplicates(subset.join(plant_df.reset_index().set_index(\"SciName\"), on=\"SciName\")"
   ]
  },
  {
   "cell_type": "code",
   "execution_count": 85,
   "id": "e4bf494b-0547-49c0-8bca-314966b83487",
   "metadata": {},
   "outputs": [
    {
     "data": {
      "text/plain": [
       "SciName\n",
       "Abutilon theophrasti       2\n",
       "Acalypha rhomboidea        1\n",
       "Acer negundo              40\n",
       "Acer nigrum                1\n",
       "Acer platanoides           3\n",
       "                          ..\n",
       "Vitis riparia              8\n",
       "Xanthium strumarium       12\n",
       "Yucca filamentosa          1\n",
       "Zanthoxylum americanum     2\n",
       "Zizia aurea               31\n",
       "Name: common_name, Length: 714, dtype: int64"
      ]
     },
     "execution_count": 85,
     "metadata": {},
     "output_type": "execute_result"
    }
   ],
   "source": [
    "df.groupby(['SciName']).count()['common_name']"
   ]
  },
  {
   "cell_type": "code",
   "execution_count": 88,
   "id": "f528efc0-b6cc-493f-a237-624261634fd9",
   "metadata": {},
   "outputs": [],
   "source": [
    "pd.options.display.float_format = '{:,.2f}'.format"
   ]
  },
  {
   "cell_type": "code",
   "execution_count": null,
   "id": "32716002-1e06-49dd-96fc-45abc948b7f6",
   "metadata": {},
   "outputs": [],
   "source": []
  }
 ],
 "metadata": {
  "kernelspec": {
   "display_name": "Python 3 (ipykernel)",
   "language": "python",
   "name": "python3"
  },
  "language_info": {
   "codemirror_mode": {
    "name": "ipython",
    "version": 3
   },
   "file_extension": ".py",
   "mimetype": "text/x-python",
   "name": "python",
   "nbconvert_exporter": "python",
   "pygments_lexer": "ipython3",
   "version": "3.7.12"
  }
 },
 "nbformat": 4,
 "nbformat_minor": 5
}
