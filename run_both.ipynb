{
 "cells": [
  {
   "cell_type": "code",
   "execution_count": 60,
   "id": "091b2ed7-da69-417c-9893-657e1366f09a",
   "metadata": {},
   "outputs": [],
   "source": [
    "import pandas as pd\n",
    "import numpy as np\n",
    "import requests\n",
    "from bs4 import BeautifulSoup"
   ]
  },
  {
   "cell_type": "code",
   "execution_count": 2,
   "id": "47a4bd28-8530-4129-b498-176cf444f2ca",
   "metadata": {},
   "outputs": [],
   "source": [
    "import geopandas as gpd\n",
    "import matplotlib.pyplot as plt\n",
    "from shapely.geometry import Point"
   ]
  },
  {
   "cell_type": "markdown",
   "id": "9a674356-85b2-47c9-833c-bf3b59a3b4ec",
   "metadata": {},
   "source": [
    "These are the parameters for the query.  The \"place_id\" corresponds to DuPage Forest Preserves as defined in iNaturalist"
   ]
  },
  {
   "cell_type": "code",
   "execution_count": 3,
   "id": "4a64e1ca-8374-463f-81aa-7418e6c3d54f",
   "metadata": {},
   "outputs": [],
   "source": [
    "DFP_PlaceID = 159205\n",
    "iconic_taxa = \"Plantae\"\n",
    "d1=\"2017-05-01\""
   ]
  },
  {
   "cell_type": "markdown",
   "id": "117529a4-a42a-4105-9ac8-5b36ce059c07",
   "metadata": {},
   "source": [
    "Query quality_grade=research&identifications=any&iconic_taxa[]=Plantae&place_id=159205&d1=2017-05-01&d2=2022-05-17 Columns id, observed_on_string, observed_on, quality_grade, description, num_identification_agreements, num_identification_disagreements, oauth_application_id, place_guess, latitude, longitude, positioning_device, species_guess, scientific_name, common_name, iconic_taxon_name, taxon_id"
   ]
  },
  {
   "cell_type": "code",
   "execution_count": 58,
   "id": "0d65234b-d985-4271-8dc9-82785806078f",
   "metadata": {},
   "outputs": [],
   "source": [
    "query=f\"https://api.inaturalist.org/v1/observations?place_id=159205&d1=2017-05-01&iconic_taxa=Plantae&quality_grade=research&order=desc&order_by=created_at&per_page=200&page=\"\n",
    "\n",
    "headers = {'User-Agent': 'Mozilla/5.0 (Macintosh; Intel Mac OS X 10_10_1) AppleWebKit/537.36 (KHTML, like Gecko) Chrome/39.0.2171.95 Safari/537.36'}"
   ]
  },
  {
   "cell_type": "markdown",
   "id": "d0dfe344-6355-4f9d-b274-4d45da114d43",
   "metadata": {},
   "source": [
    "Initialize some control values"
   ]
  },
  {
   "cell_type": "code",
   "execution_count": 5,
   "id": "e521421b-ea00-49a4-9beb-1fad8a9e8ccb",
   "metadata": {},
   "outputs": [],
   "source": [
    "page=1\n",
    "results = [1,2]"
   ]
  },
  {
   "cell_type": "code",
   "execution_count": 6,
   "id": "7f7bdce6-810c-47fc-a339-8b349974614d",
   "metadata": {},
   "outputs": [],
   "source": [
    "reclist = []\n",
    "while len(results) > 0:\n",
    "    res = requests.get(query+f\"{page}\")\n",
    "    if res.status_code == 200:\n",
    "        js = res.json()\n",
    "        results = js[\"results\"]\n",
    "        for obs in results:\n",
    "            this = {}\n",
    "            if obs['taxon']['rank'] == \"species\":\n",
    "                this['SciName'] = obs['taxon']['name']\n",
    "                this['common_name'] = obs['taxon']['preferred_common_name']\n",
    "            this['longitude'] = obs['geojson']['coordinates'][0]\n",
    "            this['latitude'] =  obs['geojson']['coordinates'][1]\n",
    "            this['observed_on'] = obs['observed_on']\n",
    "            this['who'] = obs['user']['login']\n",
    "            reclist.append(this)\n",
    "    page += 1"
   ]
  },
  {
   "cell_type": "code",
   "execution_count": 9,
   "id": "3d96785e-11d7-43dc-887d-5fa895dd9868",
   "metadata": {},
   "outputs": [],
   "source": [
    "df_inat = pd.DataFrame(reclist)\n",
    "df_inat.to_excel('inat_raw_observations.xlsx')"
   ]
  },
  {
   "cell_type": "markdown",
   "id": "59b6af3c-2aa6-4a0c-b96a-fdb0fa33181a",
   "metadata": {},
   "source": [
    "Can use saved observations instead of re-querying iNaturalist"
   ]
  },
  {
   "cell_type": "code",
   "execution_count": null,
   "id": "d0eec638-c449-4d4c-bbcd-25d21c33108d",
   "metadata": {},
   "outputs": [],
   "source": [
    "df_inat = pd.read_excel('inat_raw_observations.xlsx')"
   ]
  },
  {
   "cell_type": "code",
   "execution_count": 17,
   "id": "d07ec681-2f83-44d3-b2da-610c7a60d84a",
   "metadata": {},
   "outputs": [],
   "source": [
    "in_species = set(df_inat['SciName'].unique())"
   ]
  },
  {
   "cell_type": "markdown",
   "id": "3f681445-45c0-46fe-abbb-f0fd45de9a18",
   "metadata": {},
   "source": [
    "now get the species observed by The Forest Preserve"
   ]
  },
  {
   "cell_type": "code",
   "execution_count": 90,
   "id": "d0227694-8e7e-4025-8435-efb83f92bad4",
   "metadata": {
    "tags": []
   },
   "outputs": [],
   "source": [
    "fp_df = pd.read_excel(\"DMP Flora by EcoUnit.xlsx\")"
   ]
  },
  {
   "cell_type": "raw",
   "id": "1d6417ad-413e-48c0-ae97-6b38442fd090",
   "metadata": {},
   "source": [
    "Create a master species list"
   ]
  },
  {
   "cell_type": "code",
   "execution_count": 86,
   "id": "3d7740a0-7cc0-430f-a61f-3ac03b592657",
   "metadata": {},
   "outputs": [],
   "source": [
    "in_species  |= set(fp_df[\"SciName\"])"
   ]
  },
  {
   "cell_type": "code",
   "execution_count": 26,
   "id": "c111eb5f-3903-4f14-ac7d-bf7d8ed47189",
   "metadata": {},
   "outputs": [],
   "source": [
    "def get_lb_data_from_soup(soup, sn, symbol):\n",
    "    #print('Getting Lady Bird data from soup')\n",
    "    rec = {\"SciName\": sn, \n",
    "           \"Symbol\": symbol, \n",
    "           \"Bloom Time:\": \" \",\n",
    "           \"Jan\": 0,\n",
    "           \"Feb\": 0,\n",
    "           \"Mar\": 0,\n",
    "           \"Apr\": 0,\n",
    "           \"May\": 0,\n",
    "           \"Jun\": 0,\n",
    "           \"Jul\": 0,\n",
    "           \"Aug\": 0,\n",
    "           \"Sep\": 0,\n",
    "           \"Oct\": 0,\n",
    "           \"Nov\": 0,\n",
    "           \"Dec\": 0,\n",
    "           \"Special Value to Native Bees\": 0 ,\n",
    "           \"Special Value to Bumble Bees\": 0, \n",
    "           \"Nectar Source:\": 0, \n",
    "           \"Larval Host:\": \"No\",\n",
    "           \"Larval Host(Monarch)\": 0,\n",
    "           \"Larval Host(Other)\": 0}\n",
    "    h4s = soup.find_all(\"h4\")\n",
    "    #print(\"h4's found: \",h4s)\n",
    "    for n in h4s:\n",
    "        #print('\\n\\n', '####', n, n.string)\n",
    "        if n.string == \"Bloom Information\":\n",
    "            #print(\"Found Bloom Information\")\n",
    "            sibs = n.find_next_siblings()\n",
    "            for s in sibs:\n",
    "                #print(s)\n",
    "                if s.string == \"Bloom Time:\":\n",
    "                    #print(n.parent)\n",
    "                    #print(s)\n",
    "                    #print(s.next_sibling)\n",
    "                    mos = s.next_sibling.split(\",\")\n",
    "                    for m in mos:\n",
    "                        rec[m.strip()] = 1                    \n",
    "                    rec[s.string] = s.next_sibling\n",
    "        if n.string == \"Benefit\":\n",
    "            sibs = n.find_next_siblings()\n",
    "            for s in sibs:\n",
    "                #print(s)\n",
    "                if s.string == \"Nectar Source:\":\n",
    "                    print(\"found benefit for \", sn, symbol)\n",
    "                    #print(n.parent)\n",
    "                    #print(s)\n",
    "                    #print(s.next_sibling)\n",
    "                    rec[s.string] = 1\n",
    "                if s.string == \"Larval Host:\":\n",
    "                    print(\"found benefit for \", sn, symbol)\n",
    "                    #print(n.parent)\n",
    "                    #print(s)\n",
    "                    #print(s.next_sibling)\n",
    "                    rec[s.string] = s.next_sibling\n",
    "                    if \"onarch\" in s.next_sibling:\n",
    "                        rec[\"Larval Host(Monarch)\"] = 1\n",
    "                    else: \n",
    "                        rec[\"Larval Host(Other)\"] = 1\n",
    "        if n.string == \"Value to Beneficial Insects\":\n",
    "            #print(n.parent.prettify())\n",
    "            for s in n.find_next_siblings():\n",
    "                #print(s)\n",
    "                if s.string: \n",
    "                    if (s.string.strip().startswith(\"Special\") and (s.string.find(\"Honey\") == -1)):\n",
    "                        #print('adding string', s)\n",
    "                        rec[s.string.replace(\"\\xa0\", \" \")] = 1\n",
    "                #print(s.next_sibling)\n",
    "                if (str(s.next_sibling).strip().startswith(\"Special\") and (str(s.next_sibling).find(\"Honey\") == -1)):\n",
    "                    #print(\"adding next sibling\", s.next_sibling)\n",
    "                    rec[str(s.next_sibling.strip().replace(\"\\xa0\", \" \"))] = 1                \n",
    "    return rec"
   ]
  },
  {
   "cell_type": "code",
   "execution_count": 62,
   "id": "6c93edc2-097d-4cc6-bdac-b2368cfbe766",
   "metadata": {},
   "outputs": [],
   "source": [
    "def get_lb_page_for_sci_name(sn):\n",
    "    try:\n",
    "        symbol = lookup_list.loc[[sn]][\"Symbol\"].values[0]\n",
    "    except KeyError:\n",
    "        return(\"\", \"\", \"\")\n",
    "    url_template = f\"https://www.wildflower.org/plants/result.php?id_plant={symbol}\"\n",
    "    #print(url_template)\n",
    "    res = requests.get(url_template, headers=headers)\n",
    "    if res.status_code != 200:\n",
    "        sys.exit(\"page request failed\")\n",
    "    soup = BeautifulSoup(res.text, 'lxml')\n",
    "    return (soup, sn, symbol)\n",
    " "
   ]
  },
  {
   "cell_type": "markdown",
   "id": "65e0d3a5-cc25-41a5-a097-e42c3d5c3a47",
   "metadata": {},
   "source": [
    "Run the two above functions once for each species reported, and collect the records into a dataframe"
   ]
  },
  {
   "cell_type": "code",
   "execution_count": 30,
   "id": "36ec0a4b-c4c7-41af-879f-7b73e9f7b96d",
   "metadata": {},
   "outputs": [],
   "source": [
    "plup = pd.read_csv(\"usda_plant_symbols.csv\")"
   ]
  },
  {
   "cell_type": "code",
   "execution_count": 31,
   "id": "118d1675-0889-4647-b811-5eeca8bce358",
   "metadata": {},
   "outputs": [],
   "source": [
    "plup[\"SciName\"] =plup.apply(lambda r: \" \".join(r['Scientific Name with Author'].split()[:2]), axis=1)  \n",
    "plu = plup.drop_duplicates(subset=[\"SciName\"]).set_index('SciName')"
   ]
  },
  {
   "cell_type": "code",
   "execution_count": 50,
   "id": "72105424-7f97-4d6e-acd7-79ff39edf80b",
   "metadata": {},
   "outputs": [],
   "source": [
    "in_df = pd.DataFrame(in_species, columns=[\"SciName\"]).dropna()\n",
    "lookup_list = (in_df\n",
    "               .join(plu,on=\"SciName\")[[\"SciName\", \"Symbol\"]]\n",
    "               .dropna()\n",
    "               .set_index(\"SciName\") )"
   ]
  },
  {
   "cell_type": "code",
   "execution_count": 63,
   "id": "e799b3b4-017f-42a6-b829-2b7a566bb040",
   "metadata": {},
   "outputs": [
    {
     "name": "stdout",
     "output_type": "stream",
     "text": [
      "found benefit for  Carpinus caroliniana CACA18\n",
      "found benefit for  Poa pratensis POPR\n",
      "found benefit for  Sassafras albidum SAAL5\n",
      "found benefit for  Cephalanthus occidentalis CEOC2\n",
      "found benefit for  Aristida oligantha AROL\n",
      "found benefit for  Salix discolor SADI\n",
      "found benefit for  Gleditsia triacanthos GLTR\n",
      "found benefit for  Celtis occidentalis CEOC\n",
      "found benefit for  Fragaria virginiana FRVI\n",
      "found benefit for  Chelone glabra CHGL2\n",
      "found benefit for  Chasmanthium latifolium CHLA5\n",
      "found benefit for  Fraxinus pennsylvanica FRPE\n",
      "found benefit for  Morus rubra MORU2\n",
      "found benefit for  Viburnum lentago VILE\n",
      "found benefit for  Cornus sericea COSE16\n",
      "found benefit for  Cornus florida COFL2\n",
      "found benefit for  Fraxinus lanceolata FRPE\n",
      "found benefit for  Leersia oryzoides LEOR\n",
      "found benefit for  Amaranthus tuberculatus AMTU\n",
      "found benefit for  Penstemon digitalis PEDI\n",
      "found benefit for  Dalea candida DACA7\n",
      "found benefit for  Astragalus canadensis ASCA11\n",
      "found benefit for  Verbena simplex VESI\n",
      "found benefit for  Leersia virginica LEVI2\n",
      "found benefit for  Phlox pilosa PHPI\n",
      "found benefit for  Populus grandidentata POGR4\n",
      "found benefit for  Symphyotrichum novae-angliae SYNO2\n",
      "found benefit for  Symphyotrichum novae-angliae SYNO2\n",
      "found benefit for  Chamaecrista fasciculata CHFA2\n",
      "found benefit for  Chamaecrista fasciculata CHFA2\n",
      "found benefit for  Salix nigra SAAM2\n",
      "found benefit for  Senna hebecarpa SEHE3\n",
      "found benefit for  Lindera benzoin LIBE3\n",
      "found benefit for  Fraxinus americana FRAM2\n",
      "found benefit for  Elymus canadensis ELCA4\n",
      "found benefit for  Hylodesmum glutinosum DEGL5\n",
      "found benefit for  Bouteloua curtipendula BOCU\n",
      "found benefit for  Enemion biternatum ENBI\n",
      "found benefit for  Asclepias tuberosa ASTU\n",
      "found benefit for  Asclepias tuberosa ASTU\n",
      "found benefit for  Dalea purpurea DAPU5\n",
      "found benefit for  Acer rubrum ACRU\n",
      "found benefit for  Sorghastrum nutans SONU2\n",
      "found benefit for  Comandra umbellata COUM\n",
      "found benefit for  Asclepias incarnata ASIN\n",
      "found benefit for  Asclepias incarnata ASIN\n",
      "found benefit for  Geum canadense GECA7\n",
      "found benefit for  Liatris aspera LIAS\n",
      "found benefit for  Apocynum androsaemifolium APAN2\n",
      "found benefit for  Danthonia spicata DASP2\n",
      "found benefit for  Heracleum maximum HEMA80\n",
      "found benefit for  Ptelea trifoliata PTTR\n",
      "found benefit for  Ptelea trifoliata PTTR\n",
      "found benefit for  Quercus muehlenbergii QUMU\n",
      "found benefit for  Allium cernuum ALCE2\n",
      "found benefit for  Cornus alternifolia COAL2\n",
      "found benefit for  Rudbeckia hirta RUHI2\n",
      "found benefit for  Brachyelytrum erectum BRER2\n",
      "found benefit for  Sambucus canadensis SANIC4\n",
      "found benefit for  Solidago altissima SOAL6\n",
      "found benefit for  Asclepias syriaca ASSY\n",
      "found benefit for  Urtica dioica URDI\n",
      "found benefit for  Carya glabra CAGL8\n",
      "found benefit for  Solidago flexicaulis SOFL2\n",
      "found benefit for  Prunus virginiana PRVI\n",
      "found benefit for  Monarda didyma MODI\n",
      "found benefit for  Boltonia asteroides BOAS\n",
      "found benefit for  Symphyotrichum oolentangiense SYOO\n",
      "found benefit for  Apios americana APAM\n",
      "found benefit for  Ulmus americana ULAM\n",
      "found benefit for  Rhus glabra RHGL\n",
      "found benefit for  Lythrum alatum LYAL4\n",
      "found benefit for  Cornus drummondii CODR\n",
      "found benefit for  Apocynum sibiricum APCA\n",
      "found benefit for  Robinia pseudoacacia ROPS\n",
      "found benefit for  Justicia americana JUAM\n",
      "found benefit for  Ruellia humilis RUHU\n",
      "found benefit for  Ruellia humilis RUHU\n",
      "found benefit for  Pycnanthemum tenuifolium PYTE\n",
      "found benefit for  Mimulus ringens MIRI\n",
      "found benefit for  Aquilegia canadensis AQCA\n",
      "found benefit for  Populus deltoides PODE3\n",
      "found benefit for  Apocynum cannabinum APCA\n",
      "found benefit for  Hibiscus laevis HILA2\n",
      "found benefit for  Cirsium altissimum CIAL2\n",
      "found benefit for  Rhus aromatica RHAR4\n",
      "found benefit for  Quercus palustris QUPA2\n",
      "found benefit for  Parthenocissus quinquefolia PAQU2\n",
      "found benefit for  Elymus hystrix ELHY\n",
      "found benefit for  Solidago nemoralis SONE\n",
      "found benefit for  Ceanothus americanus CEAM\n",
      "found benefit for  Ceanothus americanus CEAM\n",
      "found benefit for  Zizia aurea ZIAU\n",
      "found benefit for  Panicum virgatum PAVI2\n",
      "found benefit for  Quercus velutina QUVE\n",
      "found benefit for  Helianthus grosseserratus HEGR4\n",
      "found benefit for  Phalaris arundinacea PHAR3\n",
      "found benefit for  Prunus serotina PRSE2\n",
      "found benefit for  Prunus serotina PRSE2\n",
      "found benefit for  Quercus alba QUAL\n",
      "found benefit for  Asarum canadense ASCA\n",
      "found benefit for  Symphyotrichum shortii SYSH\n",
      "found benefit for  Amphicarpaea bracteata AMBR2\n",
      "found benefit for  Andropogon gerardii ANGE\n",
      "found benefit for  Verbena stricta VEST\n",
      "found benefit for  Viburnum acerifolium VIAC\n",
      "found benefit for  Spiraea alba SPAL2\n",
      "found benefit for  Verbena hastata VEHA2\n",
      "found benefit for  Echinacea purpurea ECPU\n",
      "found benefit for  Laportea canadensis LACA3\n",
      "found benefit for  Parthenocissus inserta PAQU2\n",
      "found benefit for  Cornus racemosa CORA6\n",
      "found benefit for  Solidago canadensis SOAL6\n",
      "found benefit for  Salix eriocephala SAER\n",
      "found benefit for  Phlox divaricata PHDI5\n",
      "found benefit for  Vernonia fasciculata VEFA2\n",
      "found benefit for  Eutrochium maculatum EUMA9\n",
      "found benefit for  Eutrochium maculatum EUMA9\n",
      "found benefit for  Juglans nigra JUNI\n",
      "found benefit for  Betula papyrifera BEPA\n",
      "found benefit for  Ulmus rubra ULRU\n",
      "found benefit for  Teucrium canadense TECA3\n",
      "found benefit for  Silphium perfoliatum SIPE2\n",
      "found benefit for  Eupatorium perfoliatum EUPE3\n",
      "found benefit for  Buchloe dactyloides BODA2\n",
      "found benefit for  Packera glabella PAGL17\n",
      "found benefit for  Populus tremuloides POTR5\n",
      "found benefit for  Ilex verticillata ILVE\n",
      "found benefit for  Coreopsis lanceolata COLA5\n",
      "found benefit for  Carya cordiformis CACO15\n",
      "found benefit for  Angelica atropurpurea ANAT\n",
      "found benefit for  Quercus rubra QURU\n",
      "found benefit for  Carex grisea CAAM8\n",
      "found benefit for  Campsis radicans CARA2\n",
      "found benefit for  Campsis radicans CARA2\n",
      "found benefit for  Quercus macrocarpa QUMA2\n",
      "found benefit for  Asclepias verticillata ASVE\n",
      "found benefit for  Cirsium discolor CIDI\n",
      "found benefit for  Liriodendron tulipifera LITU\n",
      "found benefit for  Prunella vulgaris PRVU\n",
      "found benefit for  Prunella vulgaris PRVU\n",
      "found benefit for  Lobelia cardinalis LOCA2\n",
      "found benefit for  Allium canadense ALCA3\n",
      "found benefit for  Silphium laciniatum SILA3\n",
      "found benefit for  Boehmeria cylindrica BOCY\n",
      "found benefit for  Amorpha fruticosa AMFR\n",
      "found benefit for  Asclepias sullivantii ASSU3\n",
      "found benefit for  Antennaria neglecta ANHON\n",
      "found benefit for  Desmodium canadense DECA7\n"
     ]
    }
   ],
   "source": [
    "rec_list = []\n",
    "for plant in in_df[\"SciName\"]:\n",
    "    #print(plant)\n",
    "    page, sn, symbol = get_lb_page_for_sci_name(plant)\n",
    "    if symbol != \"\":\n",
    "        rec_list.append(get_lb_data_from_soup(page, sn, symbol))\n"
   ]
  },
  {
   "cell_type": "code",
   "execution_count": 64,
   "id": "1287ee03-38fd-4f68-8ff1-79b6153185b5",
   "metadata": {
    "tags": []
   },
   "outputs": [],
   "source": [
    "plant_df = pd.DataFrame(rec_list)"
   ]
  },
  {
   "cell_type": "markdown",
   "id": "b9351d2d-1176-4ff6-a1cf-6a9a3ef2f876",
   "metadata": {},
   "source": [
    "Save the species information to an Excel sheet"
   ]
  },
  {
   "cell_type": "code",
   "execution_count": 65,
   "id": "f884bb72-2ced-457e-8503-672c9ce34a53",
   "metadata": {
    "tags": []
   },
   "outputs": [],
   "source": [
    "plant_df.to_excel(\"LadyBirdData_master.xlsx\")"
   ]
  },
  {
   "cell_type": "markdown",
   "id": "24618cad-0458-45a4-9ed1-82d5ae8832e7",
   "metadata": {},
   "source": [
    "Can use the saved plant info data if it seems current enough"
   ]
  },
  {
   "cell_type": "code",
   "execution_count": null,
   "id": "b749650f-c48b-4c02-9dd6-a265705e3121",
   "metadata": {},
   "outputs": [],
   "source": [
    "plant_df = pd.read_excel(\"LadyBirdData_master.xlsx\")"
   ]
  },
  {
   "cell_type": "markdown",
   "id": "292a9ac1-79bf-4b13-b089-cb682d0c6c49",
   "metadata": {},
   "source": [
    "Clean up columns"
   ]
  },
  {
   "cell_type": "code",
   "execution_count": 66,
   "id": "8dbf0112-a9a2-4979-9296-b94968afc5df",
   "metadata": {},
   "outputs": [],
   "source": [
    "plant_df = plant_df[['SciName', 'Symbol', 'Bloom Time:', 'Jan', 'Feb', 'Mar',\n",
    "       'Apr', 'May', 'Jun', 'Jul', 'Aug', 'Sep', 'Oct', 'Nov', 'Dec',\n",
    "       'Special Value to Native Bees', 'Special Value to Bumble Bees',\n",
    "       'Nectar Source:', 'Larval Host:', 'Larval Host(Monarch)',\n",
    "       'Larval Host(Other)']]"
   ]
  },
  {
   "cell_type": "code",
   "execution_count": 67,
   "id": "b68e4515-933d-4399-90e0-3c1bb2031f5c",
   "metadata": {},
   "outputs": [],
   "source": [
    "# Open the shapefile\n",
    "ecoUnits = gpd.GeoDataFrame.from_file('./Eco Unit Shapefile/')"
   ]
  },
  {
   "cell_type": "markdown",
   "id": "89ebc996-a07e-4c13-8932-69de4bf85607",
   "metadata": {},
   "source": [
    "make a geodataframe from the observations list (the inat has lat/long of observation)\n",
    "Make  the coordinate reference systems match"
   ]
  },
  {
   "cell_type": "code",
   "execution_count": 76,
   "id": "239f74c2-8543-4380-ba43-a9bf1783f817",
   "metadata": {},
   "outputs": [],
   "source": [
    "gdf_inats = gpd.GeoDataFrame(df_inat,\n",
    "    geometry=gpd.points_from_xy(df_inat.longitude, df_inat.latitude))\n",
    "gdf_inats = gdf_inats[['SciName', 'common_name', 'longitude', 'latitude','observed_on', 'who', 'geometry']].dropna()\n",
    "gdf_inats = gdf_inats.set_crs(crs=\"EPSG:4326\")"
   ]
  },
  {
   "cell_type": "code",
   "execution_count": 77,
   "id": "51c374de-36b4-430d-9661-ff855648b944",
   "metadata": {},
   "outputs": [],
   "source": [
    "eco_lats = ecoUnits.to_crs(\"EPSG:4326\")"
   ]
  },
  {
   "cell_type": "markdown",
   "id": "2ec825ab-05e6-4350-b76a-1a7b547c2fb5",
   "metadata": {},
   "source": [
    "Do a spatial join to match each observation to the EUnit it was made in.  Drop multilple observations of the same plant in the same EUnit"
   ]
  },
  {
   "cell_type": "code",
   "execution_count": 78,
   "id": "25e5ea0b-2b1b-411e-94d3-fc32aa1e48a1",
   "metadata": {
    "tags": []
   },
   "outputs": [],
   "source": [
    "mdf = eco_lats.sjoin(gdf_inats, how=\"left\", predicate=\"contains\").sort_values(\"EUnit\")"
   ]
  },
  {
   "cell_type": "markdown",
   "id": "ae59811d-e9ce-4624-85ac-0ac18cfc0076",
   "metadata": {},
   "source": [
    "Add the plant characteristics to the observations"
   ]
  },
  {
   "cell_type": "code",
   "execution_count": 79,
   "id": "a9b3dc4b-b1b4-4534-bfe5-53674c9e1b71",
   "metadata": {},
   "outputs": [],
   "source": [
    "mdf =  mdf.join(plant_df.reset_index().set_index(\"SciName\"), on=\"SciName\")"
   ]
  },
  {
   "cell_type": "code",
   "execution_count": 80,
   "id": "3dce9500-e06f-45e0-b06d-abac17a649b9",
   "metadata": {},
   "outputs": [],
   "source": [
    "mdf = mdf.drop_duplicates(subset=[\"EUnit\", \"SciName\"])\n",
    "mdf[\"habitat_index\"] = (mdf[\"Special Value to Native Bees\"] \n",
    "     + mdf[\"Special Value to Bumble Bees\"] \n",
    "     + mdf[\"Nectar Source:\"] \n",
    "     + mdf[\"Larval Host(Monarch)\"] \n",
    "     + mdf[\"Larval Host(Other)\"])\n",
    "\n",
    "mdf[\"# plant-months with blooms\"] = (mdf[\"Jan\"] + mdf[\"Feb\"] + mdf[\"Mar\"] + mdf[\"Apr\"] \n",
    "     + mdf[\"May\"] + mdf[\"Jun\"] + mdf[\"Jul\"] + mdf[\"Aug\"] + mdf[\"Sep\"] \n",
    "     + mdf[\"Oct\"] + mdf[\"Nov\"] + mdf[\"Dec\"] )\n",
    "\n",
    "int_df = mdf[mdf.habitat_index > 0]"
   ]
  },
  {
   "cell_type": "code",
   "execution_count": 81,
   "id": "6299fd07-c95d-49cc-b9f2-8113fc2547da",
   "metadata": {},
   "outputs": [],
   "source": [
    "sum_df = mdf.groupby([ 'EcosName', 'EUnit' ]).agg({'SciName':'count', \n",
    "                     'Special Value to Native Bees':'sum', \n",
    "                     'Special Value to Bumble Bees':'sum',\n",
    "                     'Nectar Source:': \"sum\", \n",
    "                     'Larval Host:': \"sum\",\n",
    "                     'Larval Host(Monarch)': \"sum\", \n",
    "                     'Larval Host(Other)': \"sum\",\n",
    "                     '# plant-months with blooms': \"sum\",\n",
    "                     'habitat_index':'sum'\n",
    "})"
   ]
  },
  {
   "cell_type": "code",
   "execution_count": null,
   "id": "7d7ec644-acfb-4148-948f-d166c8f87a65",
   "metadata": {},
   "outputs": [],
   "source": [
    "sum_df"
   ]
  },
  {
   "cell_type": "code",
   "execution_count": 83,
   "id": "3b5c73ba-09d2-4d46-bc52-e4dc8a891659",
   "metadata": {},
   "outputs": [],
   "source": [
    "with pd.ExcelWriter(\"inat_interesting_units.xlsx\") as writer:\n",
    "    sum_df.to_excel(writer, sheet_name=\"SummaryData\")\n",
    "    mdf.set_index(\"EUnit\").to_excel(writer, sheet_name=\"DetailData\")"
   ]
  },
  {
   "cell_type": "markdown",
   "id": "a18f2718-e8e0-4558-ad23-230b9276f343",
   "metadata": {},
   "source": [
    "Now do the forest preserve observations"
   ]
  },
  {
   "cell_type": "code",
   "execution_count": 91,
   "id": "76896a0b-0718-4f6d-9ceb-9c286fd73228",
   "metadata": {},
   "outputs": [],
   "source": [
    "fp_df =  fp_df.join(plant_df.reset_index().set_index(\"SciName\"), on=\"SciName\")\n",
    "fp_df = fp_df.rename(columns={\"EcosUnit\": \"EUnit\"})\n",
    "\n",
    "fp_df = fp_df.drop_duplicates(subset=[\"EUnit\", \"SciName\"])\n",
    "fp_df[\"habitat_index\"] = (fp_df[\"Special Value to Native Bees\"] \n",
    "     + fp_df[\"Special Value to Bumble Bees\"] \n",
    "     + fp_df[\"Nectar Source:\"] \n",
    "     + fp_df[\"Larval Host(Monarch)\"] \n",
    "     + fp_df[\"Larval Host(Other)\"])\n",
    "\n",
    "fp_df[\"# plant-months with blooms\"] = (fp_df[\"Jan\"] + fp_df[\"Feb\"] + fp_df[\"Mar\"] + fp_df[\"Apr\"] \n",
    "     + fp_df[\"May\"] + fp_df[\"Jun\"] + fp_df[\"Jul\"] + fp_df[\"Aug\"] + fp_df[\"Sep\"] \n",
    "     + fp_df[\"Oct\"] + fp_df[\"Nov\"] + fp_df[\"Dec\"] )\n",
    "\n",
    "int2_df = fp_df[fp_df.habitat_index > 0]"
   ]
  },
  {
   "cell_type": "code",
   "execution_count": 92,
   "id": "da076f07-d1ab-4254-895a-d49390296c11",
   "metadata": {},
   "outputs": [],
   "source": [
    "sum2_df = mdf.groupby([ 'EcosName', 'EUnit' ]).agg({'SciName':'count', \n",
    "                     'Special Value to Native Bees':'sum', \n",
    "                     'Special Value to Bumble Bees':'sum',\n",
    "                     'Nectar Source:': \"sum\", \n",
    "                     'Larval Host:': \"sum\",\n",
    "                     'Larval Host(Monarch)': \"sum\", \n",
    "                     'Larval Host(Other)': \"sum\",\n",
    "                     '# plant-months with blooms': \"sum\",\n",
    "                     'habitat_index':'sum'\n",
    "})"
   ]
  },
  {
   "cell_type": "code",
   "execution_count": 93,
   "id": "160501d6-f0e9-4ca0-b65f-d3a951af78f6",
   "metadata": {},
   "outputs": [],
   "source": [
    "with pd.ExcelWriter(\"fp_interesting_units.xlsx\") as writer:\n",
    "    sum2_df.to_excel(writer, sheet_name=\"SummaryData\")\n",
    "    fp_df.set_index(\"EUnit\").to_excel(writer, sheet_name=\"DetailData\")"
   ]
  },
  {
   "cell_type": "markdown",
   "id": "782cce2f-5a69-4840-b9ae-bd0ef690a78a",
   "metadata": {},
   "source": [
    "The combined data"
   ]
  },
  {
   "cell_type": "code",
   "execution_count": 102,
   "id": "170a635a-ef8b-4186-89e0-4f506ab869a6",
   "metadata": {},
   "outputs": [],
   "source": [
    "fp2_df = fp_df.drop(columns=\"PresName\")"
   ]
  },
  {
   "cell_type": "code",
   "execution_count": null,
   "id": "f528efc0-b6cc-493f-a237-624261634fd9",
   "metadata": {},
   "outputs": [],
   "source": [
    "pd.options.display.float_format = '{:,.2f}'.format"
   ]
  },
  {
   "cell_type": "code",
   "execution_count": null,
   "id": "3a7900e0-3a19-4c07-a86d-c819904ec0fe",
   "metadata": {},
   "outputs": [],
   "source": []
  }
 ],
 "metadata": {
  "kernelspec": {
   "display_name": "Python 3 (ipykernel)",
   "language": "python",
   "name": "python3"
  },
  "language_info": {
   "codemirror_mode": {
    "name": "ipython",
    "version": 3
   },
   "file_extension": ".py",
   "mimetype": "text/x-python",
   "name": "python",
   "nbconvert_exporter": "python",
   "pygments_lexer": "ipython3",
   "version": "3.9.7"
  }
 },
 "nbformat": 4,
 "nbformat_minor": 5
}
